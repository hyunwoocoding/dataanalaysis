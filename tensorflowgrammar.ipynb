{
 "cells": [
  {
   "cell_type": "code",
   "execution_count": 20,
   "metadata": {},
   "outputs": [],
   "source": [
    "#code는 python과 같은 코딩 언어 markdown은 html\n",
    "# Tensorflow 라이브러리 \n",
    "import tensorflow as tf #tf라는 별명을 주고 tensorflow를 데려온다\n",
    "# print(tf.__version__)\n",
    "import tensorflow.compat.v1 as tf"
   ]
  },
  {
   "cell_type": "code",
   "execution_count": 16,
   "metadata": {},
   "outputs": [
    {
     "name": "stdout",
     "output_type": "stream",
     "text": [
      "tf.Tensor(700, shape=(), dtype=int32)\n",
      "tf.Tensor(100, shape=(), dtype=int32)\n"
     ]
    }
   ],
   "source": [
    "#tensorflow 기본 함수\n",
    "# constant() : tensorflow에서 사용할 상수를 정의하는 함수\n",
    "a = tf.constant(500) #tensorflow 세션에서 사용할 상수를 만듭니다.\n",
    "b = tf.constant(200)\n",
    "#print(a) #tf.Tensor(500, shape=(), dtype=int32) int 32비트 형식으로 저장되어 있다는 뜻\n",
    "#print(b)\n",
    "\n",
    "c = tf.add(a,b)\n",
    "b = tf.constant(100)\n",
    "print(c) #tf.Tensor(700, shape=(), dtype=int32)\n",
    "print(b) #새로운 객체가 다시 생성 tf.Tensor(100, shape=(), dtype=int32)"
   ]
  },
  {
   "cell_type": "code",
   "execution_count": 10,
   "metadata": {},
   "outputs": [
    {
     "name": "stdout",
     "output_type": "stream",
     "text": [
      "tf.Tensor(200, shape=(), dtype=int32)\n"
     ]
    }
   ],
   "source": [
    "# Variable() : tensorflow 에서 사용할 변수를 정의하는 함수\n",
    "a = tf.Variable(10) #tensorflow에서 사용할 변수를 정의하고 데이터를 넣어줍니다.\n",
    "b = tf.Variable(20)\n",
    "c = tf.multiply(a,b)\n",
    "print(c) #tf.Tensor(200, shape=(), dtype=int32)"
   ]
  },
  {
   "cell_type": "code",
   "execution_count": 26,
   "metadata": {},
   "outputs": [
    {
     "name": "stdout",
     "output_type": "stream",
     "text": [
      "Tensor(\"add:0\", shape=(2,), dtype=float32)\n"
     ]
    }
   ],
   "source": [
    "xData = [1,2,3,4,5]\n",
    "yData = [5,4,3,2,1]\n",
    "\n",
    "#placeholder(dtype, shape, name)\n",
    "#placeholder는 tensorfolow에서 사용하는 여러 건의 학습 데이터를 저장하는 일종의 변수입니다.\n",
    "tf.disable_eager_execution()\n",
    "x = tf.placeholder(dtype = tf.float32, shape=(2)) # xData를 기억할 placeholder / dtype -> 데이터 타입\n",
    "y = tf.placeholder(dtype = tf.float32, shape=(2)) # yData를 기억할 placeholder\n",
    "# placeholder를 사용하는 수식을 선언합니다.\n",
    "z = x + y\n",
    "print(z) #Tensor(\"add:0\", shape=(2,), dtype=float32)\n",
    "\n"
   ]
  }
 ],
 "metadata": {
  "kernelspec": {
   "display_name": "Python 3",
   "language": "python",
   "name": "python3"
  },
  "language_info": {
   "codemirror_mode": {
    "name": "ipython",
    "version": 3
   },
   "file_extension": ".py",
   "mimetype": "text/x-python",
   "name": "python",
   "nbconvert_exporter": "python",
   "pygments_lexer": "ipython3",
   "version": "3.7.6"
  }
 },
 "nbformat": 4,
 "nbformat_minor": 2
}
