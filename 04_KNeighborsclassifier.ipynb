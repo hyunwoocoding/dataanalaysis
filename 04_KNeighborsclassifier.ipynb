{
 "cells": [
  {
   "cell_type": "code",
   "execution_count": 4,
   "metadata": {},
   "outputs": [
    {
     "name": "stdout",
     "output_type": "stream",
     "text": [
      "[[0, 0], [1, 0], [0, 1], [1, 1]] 의 예측 결과 :  [0 1 1 1]\n",
      "정답률 =  0.75\n"
     ]
    }
   ],
   "source": [
    "#교사 학습\n",
    "\n",
    "from sklearn.svm import LinearSVC #LinearSVC 알고리즘을 사용하기 위한 패키지\n",
    "from sklearn.metrics import accuracy_score #테스트 데이터 결과를 평가하기 위한 패키지\n",
    "\n",
    "#학습 전용 데이터와 결과를 준비합니다. (교사 학습 알고리즘을 사용하고 있으므로 학습 전용 데이터와 결과 데이터가 함께 있어야 합니다.)\n",
    "# x, y\n",
    "learn_data = [[0,0], [1,0], [0,1], [1,1]] # 0 false / 1 true\n",
    "\n",
    "# x xor y #등호가 같으면 false, 등호가 다르면 true\n",
    "learn_label = [0, 1, 1, 0]\n",
    "\n",
    "#사이컷런 알고리즘을 지정합니다. (LinearSVC)\n",
    "#LinearSVC 전용 객체를 생성합니다\n",
    "clf = LinearSVC() #생성자를 호출해 객체를 생성합니다.\n",
    "\n",
    "#clf.fit()은 학습 전용 데이터와 결과를 학습합니다.\n",
    "#fit() method를 사용해 학습 데이터 배열과 결과 데이터 배열을 매개변수로 지정합니다.\n",
    "\n",
    "clf.fit(learn_data, learn_label)\n",
    "\n",
    "#테스트 데이터로 예측합니다.\n",
    "#predict() 메서드를 사용해 예측합니다. predict()는 테스트 데이터를 매개변수로 전달하면 예측 결롸를 반환합니다.\n",
    "test_data = [[0,0], [1,0], [0,1], [1,1]]\n",
    "test_label = clf.predict(test_data)\n",
    "\n",
    "#예측 결과를 평가합니다.\n",
    "#정답률을 계산합니다. 정답률 계산에는 accuracy_score() 메소드를 사용합니다.\n",
    "#accuracy_score() 메서드는 정답과 예측 결과를 매개변수로 지정하면 정답률을 반환합니다.\n",
    "print(test_data, \"의 예측 결과 : \", test_label)\n",
    "print(\"정답률 = \", accuracy_score([0, 1, 1, 0], test_label))\n",
    "\n"
   ]
  }
 ],
 "metadata": {
  "kernelspec": {
   "display_name": "Python 3",
   "language": "python",
   "name": "python3"
  },
  "language_info": {
   "codemirror_mode": {
    "name": "ipython",
    "version": 3
   },
   "file_extension": ".py",
   "mimetype": "text/x-python",
   "name": "python",
   "nbconvert_exporter": "python",
   "pygments_lexer": "ipython3",
   "version": "3.7.6"
  }
 },
 "nbformat": 4,
 "nbformat_minor": 2
}
