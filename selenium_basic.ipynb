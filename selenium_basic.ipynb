{
 "cells": [
  {
   "cell_type": "code",
   "execution_count": null,
   "metadata": {},
   "outputs": [],
   "source": [
    "#셀리니움 기본 실행법\n",
    "\n",
    "from selenium import webdriver\n",
    "from selenium.webdriver.common.keys import Keys\n",
    "driver = webdriver.Chrome(\"c:/Hyunwoo/chromedriver.exe\")\n",
    "url = \"https://google.com\"\n",
    "driver.get(url)\n",
    "\n",
    "\n",
    "driver.find_element_by_css_selector('.gLFyf.gsfi').send_keys('파이썬') #element단수는 css_selector 소스가 한가지일 때\n",
    "driver.find_element_by_css_selector('.gLFyf.gsfi').send_keys(Keys.ENTER)\n",
    "\n",
    "#driver.find_element_by_css_selector('.LC20lb').click()\n",
    "\n",
    "driver.find_elements_by_css_selector('.LC20lb')[2].click() # elements 복수는 css_selector 소스가 여러가지일 때\n"
   ]
  }
 ],
 "metadata": {
  "kernelspec": {
   "display_name": "Python 3",
   "language": "python",
   "name": "python3"
  },
  "language_info": {
   "codemirror_mode": {
    "name": "ipython",
    "version": 3
   },
   "file_extension": ".py",
   "mimetype": "text/x-python",
   "name": "python",
   "nbconvert_exporter": "python",
   "pygments_lexer": "ipython3",
   "version": "3.7.6"
  }
 },
 "nbformat": 4,
 "nbformat_minor": 2
}
