{
 "cells": [
  {
   "cell_type": "markdown",
   "metadata": {},
   "source": [
    "## 손실함수(loss function or cost function)는 training data의 정답(t)과 입력(x)에 대한 계산 값 y의 차이를 모두 더해 수식으로 나타낸 것\n",
    "\n",
    "# "
   ]
  },
  {
   "cell_type": "code",
   "execution_count": 4,
   "metadata": {},
   "outputs": [],
   "source": [
    "import tensorflow.compat.v1 as tf # 텐서플로우 버전1을 사용\n",
    "tf.disable_v2_behavior() # 텐서플로우 버전2 사용 X\n",
    "\n",
    "# 선형 회귀 분석(Linear Regression)\n",
    "# 어떤 변수에 다른 변수들이 주는 영향력을 선형적으로 분석하는 대표적인 분석 방법을 선형 회귀 분석이라고 합니다.\n",
    "\n",
    "xData = [1, 2, 3, 4, 5, 6, 7] # 하루 노동 시간\n",
    "yData = [25000, 55000, 75000, 110000, 128000, 155000, 180000] # 노동시간에 따른 매출 금액, 실제값"
   ]
  },
  {
   "cell_type": "markdown",
   "metadata": {},
   "source": [
    "# 난수를 발생시켜 학습할 기울기와 y절편을 구합니다."
   ]
  },
  {
   "cell_type": "code",
   "execution_count": 5,
   "metadata": {},
   "outputs": [
    {
     "name": "stdout",
     "output_type": "stream",
     "text": [
      "a = [6.4272385], b= [-42.53285]\n"
     ]
    }
   ],
   "source": [
    "# Variable() : tensorflow에서 사용할 변수를 선언합니다.\n",
    "# tf.random_uniform([난수의 개수], 최소값, 최대값) : tensorflow에서 사용할 난수를 발생합니다.\n",
    "# 어차피 선형회귀에서 기울기랑 절편에 의해 정해지는데, 이걸 난수로 계속 뽑아서 최소값을 찾는 것\n",
    "a = tf.Variable(tf.random_uniform([1], -100, 100)) # 기울기(가중치), -100~100 사이의 난수 \n",
    "b = tf.Variable(tf.random_uniform([1], -100, 100)) # y절편, -100~100 사이의 난수\n",
    "# 난수를 발생시켜서 사용하는 이유는 과적합을 방지하기 위해서입니다.\n",
    "# 과적합이란? 학습을 지나치게 한 탓에 데이터에 대한 답을 제대로 내지 못하는 현상을 의미합니다. 학습 전용 데이터에 너무 특화돼 이외의 데이터에 \n",
    "# 대한 판단을 제대로 못하는 것입니다.\n",
    "\n",
    "sess = tf.Session()\n",
    "sess.run(tf.global_variables_initializer())\n",
    "print('a = {}, b= {}'.format(sess.run(a), sess.run(b)))"
   ]
  },
  {
   "cell_type": "markdown",
   "metadata": {},
   "source": [
    "# 노동 시간과 매출 금액을 기억할 tensorflow에서 사용되는 자료형(placeholder)을 선언합니다.\n",
    "\n",
    "\n",
    "\n",
    "\n",
    "\n",
    "\n",
    "\n",
    "\n",
    "\n"
   ]
  },
  {
   "cell_type": "code",
   "execution_count": 6,
   "metadata": {},
   "outputs": [],
   "source": [
    "# placeholer(dtype=tf.자료형) : tensorflow에서 사용하는 처리할 데이터가 저장될 자료형을 선언합니다.\n",
    "x = tf.placeholder(dtype=tf.float32) # 노동 시간을 기억할 placeholder\n",
    "y = tf.placeholder(dtype=tf.float32) # 매출 금액을 기억할 placeholder -> 실제값\n",
    "\n",
    "# 1차 방정식 형태의 가설을 세우고 비용(오차) 함수를 정의합니다.\n",
    "# 비용(오차) 함수 : 실제값(y)과 예측값(Y)의 편차에 대한 제곱의 평균을 이용합니다. -> 평균 제곱법\n",
    "Y = a * x + b # 1차 방정식 형태의 가설 : 예측값\n",
    "# reduce_mean() : tensorflow에서 평균을 계산하는 함수\n",
    "# square() : tensorflow에서 제곱값을 계산하는 함수\n",
    "cost = tf.reduce_mean(tf.square(Y - y))"
   ]
  },
  {
   "cell_type": "markdown",
   "metadata": {},
   "source": [
    "# tensorflow의 경사 하강 함수로 비용(오차) 함수의 결과를 가장 작게 만드는 방향으로 학습을 시키도록 정의합니다.\n",
    "\n",
    "\n",
    "\n",
    "\n",
    "\n",
    "\n",
    "\n",
    "\n",
    "\n",
    "\n",
    "\n",
    "\n",
    "\n",
    "\n",
    "\n"
   ]
  },
  {
   "cell_type": "code",
   "execution_count": 7,
   "metadata": {},
   "outputs": [],
   "source": [
    "# 경사 하강 알고리즘의 학습율을 설정합니다.\n",
    "learning_rate = tf.Variable(0.01)\n",
    "# tf.train.GradientDescentOptimizer() : tensorflow에서 제공하는 학습률에 따른 비용(오차) 함수를 계산하는 함수\n",
    "# optimizer = tf.train.GradientDescentOptimizer(learning_rate)\n",
    "# 비용(오차) 함수를 가장 작게 만드는 방향으로 학습을 시킵니다.\n",
    "# train = optimizer.minimize(cost)\n",
    "train = tf.train.GradientDescentOptimizer(learning_rate).minimize(cost)"
   ]
  },
  {
   "cell_type": "markdown",
   "metadata": {},
   "source": [
    "# 학습을 5000번 시킵니다."
   ]
  },
  {
   "cell_type": "code",
   "execution_count": 8,
   "metadata": {},
   "outputs": [
    {
     "name": "stdout",
     "output_type": "stream",
     "text": [
      " 500    8687704.00  25536.930   1953.118\n",
      "1000    8633823.00  25627.420   1505.011\n",
      "1500    8632679.00  25640.607   1439.715\n",
      "2000    8632649.00  25642.529   1430.195\n",
      "2500    8632654.00  25642.805   1428.821\n",
      "3000    8632656.00  25642.844   1428.633\n",
      "3500    8632657.00  25642.848   1428.613\n",
      "4000    8632657.00  25642.848   1428.613\n",
      "4500    8632657.00  25642.848   1428.613\n",
      "5000    8632657.00  25642.848   1428.613\n"
     ]
    }
   ],
   "source": [
    "# 학습을 시작하기 전에 tensorflow 세션(작업공간)을 만들고 변수를 초기화합니다.\n",
    "sess = tf.Session()\n",
    "sess.run(tf.global_variables_initializer())\n",
    "\n",
    "for i in range(1, 5001):\n",
    "    # 비용(오차) 함수를 가장 작게 만드는 학습을 할 수 있도록 placeholder에 데이터를 대입합니다.\n",
    "    # 학습할 데이터는 반드시 'feed_dict'라는 이름의 딕셔너리 타입의 자료형을 사용해서 실행해야 합니다.\n",
    "    # 딕셔너리 타입 -> {'key', 'value'} 형태의 자료형을 의미합니다.\n",
    "    # value에는 list 타입의 데이터를 넣어줘야 합니다.\n",
    "    sess.run(train, feed_dict = {x: xData, y: yData})\n",
    "    # 500번 단위로 학습이 될 때 마다 머신러닝이 실행되는 중간 결과를 출력합니다.\n",
    "    if i % 500 == 0:\n",
    "        # sess.run(a)와 sess.run(b)는 Numpy array 타입의 데이터이기 때문에 [0]을 사용해 첫번째 데이터만 인덱싱하여 출력합니다.\n",
    "        print('{0:4d} {1:13.2f} {2:10.3f} {3:10.3f}'.format(i, sess.run(cost, feed_dict={x: xData, y: yData}), sess.run(a)[0], sess.run(b)[0]))\n",
    "\n"
   ]
  },
  {
   "cell_type": "markdown",
   "metadata": {},
   "source": [
    "# 학습이 완료된 후에는 원하는 입력에 대한 결과를 출력합니다.\n",
    "\n",
    "\n",
    "\n",
    "\n",
    "\n",
    "\n"
   ]
  },
  {
   "cell_type": "code",
   "execution_count": 9,
   "metadata": {},
   "outputs": [
    {
     "name": "stdout",
     "output_type": "stream",
     "text": [
      " 8시간 노동을 했을 때 하루 매출 기대액 : 206,571.4원\n",
      " 9시간 노동을 했을 때 하루 매출 기대액 : 232,214.2원\n",
      "10시간 노동을 했을 때 하루 매출 기대액 : 257,857.1원\n",
      "11시간 노동을 했을 때 하루 매출 기대액 : 283,499.9원\n",
      "12시간 노동을 했을 때 하루 매출 기대액 : 309,142.8원\n",
      "13시간 노동을 했을 때 하루 매출 기대액 : 334,785.7원\n",
      "14시간 노동을 했을 때 하루 매출 기대액 : 360,428.5원\n",
      "15시간 노동을 했을 때 하루 매출 기대액 : 386,071.3원\n",
      "16시간 노동을 했을 때 하루 매출 기대액 : 411,714.2원\n",
      "17시간 노동을 했을 때 하루 매출 기대액 : 437,357.0원\n",
      "18시간 노동을 했을 때 하루 매출 기대액 : 462,999.9원\n",
      "19시간 노동을 했을 때 하루 매출 기대액 : 488,642.7원\n",
      "20시간 노동을 했을 때 하루 매출 기대액 : 514,285.6원\n",
      "21시간 노동을 했을 때 하루 매출 기대액 : 539,928.4원\n",
      "22시간 노동을 했을 때 하루 매출 기대액 : 565,571.2원\n",
      "23시간 노동을 했을 때 하루 매출 기대액 : 591,214.1원\n",
      "24시간 노동을 했을 때 하루 매출 기대액 : 616,857.0원\n"
     ]
    }
   ],
   "source": [
    "for i in range(8, 25):\n",
    "    print('{0:2d}시간 노동을 했을 때 하루 매출 기대액 : {1:,.1f}원'.format(i, sess.run(Y, feed_dict={x: [i]})[0]))"
   ]
  }
 ],
 "metadata": {
  "kernelspec": {
   "display_name": "Python 3",
   "language": "python",
   "name": "python3"
  },
  "language_info": {
   "codemirror_mode": {
    "name": "ipython",
    "version": 3
   },
   "file_extension": ".py",
   "mimetype": "text/x-python",
   "name": "python",
   "nbconvert_exporter": "python",
   "pygments_lexer": "ipython3",
   "version": "3.7.6"
  }
 },
 "nbformat": 4,
 "nbformat_minor": 2
}
