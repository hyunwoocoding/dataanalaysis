{
 "cells": [
  {
   "cell_type": "code",
   "execution_count": 22,
   "metadata": {
    "scrolled": true
   },
   "outputs": [
    {
     "ename": "SyntaxError",
     "evalue": "EOF while scanning triple-quoted string literal (<ipython-input-22-14e0fe600b40>, line 68)",
     "output_type": "error",
     "traceback": [
      "\u001b[1;36m  File \u001b[1;32m\"<ipython-input-22-14e0fe600b40>\"\u001b[1;36m, line \u001b[1;32m68\u001b[0m\n\u001b[1;33m    \u001b[0m\n\u001b[1;37m    ^\u001b[0m\n\u001b[1;31mSyntaxError\u001b[0m\u001b[1;31m:\u001b[0m EOF while scanning triple-quoted string literal\n"
     ]
    }
   ],
   "source": [
    "from selenium import webdriver\n",
    "from selenium.webdriver.common.keys import Keys\n",
    "from selenium.webdriver.common.action_chains import ActionChains\n",
    "\n",
    "import time\n",
    "\n",
    "driver = webdriver.Chrome(\"c:/Hyunwoo/chromedriver.exe\")\n",
    "url = 'https://google.com'\n",
    "url2 = 'https://mail.google.com/mail/u/0/?ogbl#inbox'\n",
    "driver.get(url)\n",
    "#driver.maximize_window() #큰창으로 열기\n",
    "\n",
    "# action 이라는 변수를 사용해서 dirver를 제어할 수 있게 한다\n",
    "action = ActionChains(driver)\n",
    "driver.find_element_by_css_selector('#gb_70').click() # .은 class의미 #은 id의미\n",
    "\n",
    "#무언가 입력을 하려고 할 때 검색창을 클릭하지 않아도 깜빡거려 바로 타이핑할 수 있을 경우\n",
    "#actionchains가 편하다\n",
    "\n",
    "action.send_keys('qkrgusdn6814').perform()\n",
    "\n",
    "#에러 방지 # 액션을 다시 만들 때 전에 만들었던 액션과 혼동되므로 다시 액션 만들 때 리셋할 것\n",
    "action.reset_actions()\n",
    "\n",
    "driver.find_element_by_css_selector('.CwaK9').click()\n",
    "\n",
    "time.sleep(2)\n",
    "driver.find_element_by_css_selector('.whsOnd.zHQkBf').send_keys('!fmykh2395')\n",
    "driver.find_element_by_css_selector('.CwaK9').click()\n",
    "\n",
    "time.sleep(2)\n",
    "driver.get('https://mail.google.com/mail/u/0/?ogbl#inbox')\n",
    "time.sleep(2)\n",
    "\n",
    "'''\n",
    "send_button = driver.find_element_by_css_selector('.gU.Up')\n",
    "\n",
    "action.send_keys('qkrgusdn5549@naver.com').key_down(Keys.TAB).key_down(Keys.TAB).send_keys('제목입니다.').key_down(Keys.TAB).send_keys('내용입니다.').perform()\n",
    "# 길 경우\n",
    "# 1.\n",
    "action.send_keys('qkrgusdn5549@naver.com')\\\n",
    ".key_down(Keys.TAB).key_down(Keys.TAB).send_keys('제목입니다.').key_down(Keys.TAB).send_keys('내용입니다.').perform()\n",
    "# 2. \n",
    "(\n",
    "action.send_keys('qkrgusdn5549@naver.com').key_down(Keys.TAB).key_down(Keys.TAB)\n",
    ".send_keys('제목입니다.').key_down(Keys.TAB)\n",
    ".send_keys('내용입니다.').perform()\n",
    ")\n",
    "\n",
    "(\n",
    "action.send_keys('qkrgusdn5549@naver.com').pause(2) #pause는 쉬어주기\n",
    ".key_down(Keys.TAB).key_down(Keys.TAB)\n",
    ".send_keys('제목입니다.').key_down(Keys.TAB)\n",
    ".send_keys('내용입니다.').key_down(Keys.ENTER) #밑에 줄로 내리기\n",
    ".key_down(Keys.SHIFT).send_keys('abcde').key_up(Keys.SHIFT) #대문자쓰기\n",
    ".perform()\n",
    ")\n",
    "\n",
    "(\n",
    "action.send_keys('qkrgusdn5549@naver.com').pause(2) #pause는 쉬어주기\n",
    ".key_down(Keys.TAB).key_down(Keys.TAB)\n",
    ".send_keys('제목입니다.').key_down(Keys.TAB)\n",
    ".send_keys('내용입니다.').key_down(Keys.ENTER) #밑에 줄로 내리기\n",
    ".key_down(Keys.SHIFT).send_keys('abcde').key_up(Keys.SHIFT) #대문자쓰기\n",
    ".move_to_element(send_button).click() #미리 찾아놓은 버튼 값 찾아서 클릭 \n",
    ".perform()\n",
    ")\n",
    "\n"
   ]
  },
  {
   "cell_type": "code",
   "execution_count": null,
   "metadata": {},
   "outputs": [],
   "source": []
  }
 ],
 "metadata": {
  "kernelspec": {
   "display_name": "Python 3",
   "language": "python",
   "name": "python3"
  },
  "language_info": {
   "codemirror_mode": {
    "name": "ipython",
    "version": 3
   },
   "file_extension": ".py",
   "mimetype": "text/x-python",
   "name": "python",
   "nbconvert_exporter": "python",
   "pygments_lexer": "ipython3",
   "version": "3.7.6"
  }
 },
 "nbformat": 4,
 "nbformat_minor": 2
}
