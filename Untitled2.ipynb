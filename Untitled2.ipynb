{
 "cells": [
  {
   "cell_type": "code",
   "execution_count": null,
   "metadata": {},
   "outputs": [],
   "source": [
    "import tensorflow.compat.v1 as tf #텐서플로 버전1을 사용하겠다; 현재는 2버전까지 나와있음\n",
    "tf.disable_v2_behavior() #텐서플로 버전2를 사용하지 않겠다.\n",
    "\n",
    "##표준편차를 계산할 데이터의 개수를 입력하고 입력받은 개수만큼 데이터를 입력 받습니다.\n",
    "n = int(input('표준편차를 계산할 데이터의 개수를 입력하세요. : '))\n",
    "data = []\n",
    "for i in range(n):\n",
    "    a = int(input('데이터를 입력하십시오: '))\n",
    "    data.append(a)\n",
    "#print(data)\n",
    "\n",
    "\n",
    "#입력받은 데이터를 오름차순 정렬합니다. -> 0번째 데이터가 최소값, 마지막 데이터가 최대값\n",
    "data.sort(reverse=True)\n",
    "del(data[0])\n",
    "del(data[len(data)-1])\n",
    "print(data)\n",
    "\n",
    "\n",
    "#최대값, 최소값을 제외한 나머지 데이터의 평균을 계산 -> 분산\n",
    "sum = 0\n",
    "for i in range(len(data)):\n",
    "    sum +=  data[i]\n",
    "\n",
    "avr = sum//len(data)\n",
    "print(avr)\n",
    "\n",
    "#분산의 루트를 씌여주면 표준편차가 됩니다.\n",
    "\n",
    "result = tf.sqrt(avr) #제곱근\n",
    "print('tf.sqrt(avr) : {}'.format(sess.run(result)))"
   ]
  },
  {
   "cell_type": "code",
   "execution_count": null,
   "metadata": {},
   "outputs": [],
   "source": []
  }
 ],
 "metadata": {
  "kernelspec": {
   "display_name": "Python 3",
   "language": "python",
   "name": "python3"
  },
  "language_info": {
   "codemirror_mode": {
    "name": "ipython",
    "version": 3
   },
   "file_extension": ".py",
   "mimetype": "text/x-python",
   "name": "python",
   "nbconvert_exporter": "python",
   "pygments_lexer": "ipython3",
   "version": "3.7.6"
  }
 },
 "nbformat": 4,
 "nbformat_minor": 2
}
