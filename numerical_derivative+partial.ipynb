{
 "cells": [
  {
   "cell_type": "code",
   "execution_count": 7,
   "metadata": {},
   "outputs": [
    {
     "name": "stdout",
     "output_type": "stream",
     "text": [
      "result ==  6.000000000012662\n"
     ]
    }
   ],
   "source": [
    "#미분 numerical derivative\n",
    "\n",
    "def my_func1(x):\n",
    "    return x**2\n",
    "\n",
    "def numerical_derivative(f, x): #f는 미분하려는 함수, 외부에서 def, lambda 등으로 정의됨\n",
    "    delta_x = 1e-4 #lim에 해당되는 작은 값\n",
    "    return (f(x+delta_x) - f(x-delta_x)) / (2*delta_x)\n",
    "\n",
    "result = numerical_derivative(my_func1, 3)\n",
    "\n",
    "print(\"result == \", result)"
   ]
  },
  {
   "cell_type": "code",
   "execution_count": 10,
   "metadata": {},
   "outputs": [
    {
     "name": "stdout",
     "output_type": "stream",
     "text": [
      "result ==  66.50150507518049\n"
     ]
    }
   ],
   "source": [
    "import numpy as np\n",
    "\n",
    "def my_func1(x):\n",
    "    return x**2\n",
    "\n",
    "def my_func2(x):\n",
    "    \n",
    "    return 3*x*(np.exp(x))\n",
    "\n",
    "def numerical_derivative(f, x):\n",
    "    delta_x = 1e-4\n",
    "    return (f(x+delta_x) - f(x-delta_x)) / (2*delta_x)\n",
    "\n",
    "result = numerical_derivative(my_func2, 2)\n",
    "\n",
    "print(\"result == \", result)"
   ]
  },
  {
   "cell_type": "code",
   "execution_count": 20,
   "metadata": {},
   "outputs": [],
   "source": [
    "#다변수 함수에서의 편미분\n",
    "\n",
    "import numpy as np\n",
    "\n",
    "def numerical_derivative(f, x): #x는 모든 변수를 포함하고 있는 numpy객체(배열, 행렬...)\n",
    "    delta_x = 1e-4\n",
    "    grad = np.zeros_like(x) #x와 같은 형태인 행렬을 만들어 낸다. 단, 원소는 0\n",
    "    # # zeros_like() 은 기존 img 배열의 shape과 dtype에서 동일한 값을 갖지만, 해당 배열의 값은 모두 '0'으로 생성된다. \n",
    "    # 새롭게 생성된 배열 b 의 shape이 기존의 parameter x의 shape 과 동일하다는 사실을 확인할 수 있다.\n",
    "    \n",
    "    it = np.nditer(x, flags = ['multi_index'], op_flags=['readwrite']) #모든 입력변수에 대해 편미분하기 위해 iterator 사용\n",
    "    while not it.finished: \n",
    "        idx = it.multi_index\n",
    "        \n",
    "        tmp_val = x[idx] # numpy 타입은 mutable이므로 원래 값 보관\n",
    "        x[idx] = float(tmp_val) + delta_x\n",
    "        fx1 = f(x) #f(x+delta_x)\n",
    "        \n",
    "        x[idx] = tmp_val - delta_x\n",
    "        fx2 = f(x)\n",
    "        grad[idx] = (fx1 - fx2) / (2*delta_x)\n",
    "        \n",
    "        x[idx] = tmp_val\n",
    "        it.iternext()\n",
    "    \n",
    "    return grad\n",
    "\n",
    "\n"
   ]
  },
  {
   "cell_type": "code",
   "execution_count": 23,
   "metadata": {},
   "outputs": [
    {
     "name": "stdout",
     "output_type": "stream",
     "text": [
      "debug 1. inital input variable = [3.]\n",
      "debug 2. initial grad = [0.]\n",
      "======================================\n",
      "debug 3. idx= (0,) , x[idx]= 3.0\n",
      "debug 4, grad[idx] = 6.000000000012662\n",
      "debug 5, grad =  [6.]\n",
      "====================================\n"
     ]
    },
    {
     "data": {
      "text/plain": [
       "array([6.])"
      ]
     },
     "execution_count": 23,
     "metadata": {},
     "output_type": "execute_result"
    }
   ],
   "source": [
    "import numpy as np\n",
    "\n",
    "# 입력변수 1개인 함수 f(x) = x**2\n",
    "\n",
    "def func1(input_obj):\n",
    "    x = input_obj[0]\n",
    "    \n",
    "    return x**2\n",
    "\n",
    "def numerical_derivative(f, x): #x는 모든 변수를 포함하고 있는 numpy객체(배열, 행렬...)\n",
    "    delta_x = 1e-4\n",
    "    grad = np.zeros_like(x)\n",
    "    print(\"debug 1. inital input variable =\", x)\n",
    "    print(\"debug 2. initial grad =\", grad)\n",
    "    print(\"======================================\")\n",
    "    \n",
    "    it = np.nditer(x, flags = ['multi_index'], op_flags=['readwrite']) #모든 입력변수에 대해 편미분하기 위해 iterator 사용\n",
    "    \n",
    "    while not it.finished: \n",
    "        idx = it.multi_index\n",
    "        \n",
    "        print(\"debug 3. idx=\", idx, \", x[idx]=\", x[idx])\n",
    "        \n",
    "        tmp_val = x[idx] \n",
    "        x[idx] = float(tmp_val) + delta_x\n",
    "        fx1 = f(x) #f(x+delta_x)\n",
    "        \n",
    "        x[idx] = tmp_val - delta_x\n",
    "        fx2 = f(x)\n",
    "        grad[idx] = (fx1 - fx2) / (2*delta_x)\n",
    "        \n",
    "        print(\"debug 4, grad[idx] =\", grad[idx])\n",
    "        print(\"debug 5, grad = \", grad)\n",
    "        print(\"====================================\")\n",
    "        \n",
    "        x[idx] = tmp_val\n",
    "        it.iternext()\n",
    "    \n",
    "    return grad\n",
    "\n",
    "\n",
    "\n",
    "# x = 3에서의 편미분 값\n",
    "numerical_derivative(func1, np.array([3.0]))"
   ]
  },
  {
   "cell_type": "code",
   "execution_count": 24,
   "metadata": {},
   "outputs": [
    {
     "name": "stdout",
     "output_type": "stream",
     "text": [
      "debug 1. inital input variable = [1. 2.]\n",
      "debug 2. initial grad = [0. 0.]\n",
      "======================================\n",
      "debug 3. idx= (0,) , x[idx]= 1.0\n",
      "debug 4, grad[idx] = 7.999999999990237\n",
      "debug 5, grad =  [8. 0.]\n",
      "====================================\n",
      "debug 3. idx= (1,) , x[idx]= 2.0\n",
      "debug 4, grad[idx] = 15.000000010019221\n",
      "debug 5, grad =  [ 8.         15.00000001]\n",
      "====================================\n"
     ]
    },
    {
     "data": {
      "text/plain": [
       "array([ 8.        , 15.00000001])"
      ]
     },
     "execution_count": 24,
     "metadata": {},
     "output_type": "execute_result"
    }
   ],
   "source": [
    "#다변수 함수\n",
    "\n",
    "import numpy as np\n",
    "\n",
    "def func1(input_obj):\n",
    "    x = input_obj[0]\n",
    "    y = input_obj[1]\n",
    "    \n",
    "    return (2*x + 3*x*y + np.power(y,3))\n",
    "\n",
    "def numerical_derivative(f, x): #x는 모든 변수를 포함하고 있는 numpy객체(배열, 행렬...)\n",
    "    delta_x = 1e-4\n",
    "    grad = np.zeros_like(x)\n",
    "    print(\"debug 1. inital input variable =\", x)\n",
    "    print(\"debug 2. initial grad =\", grad)\n",
    "    print(\"======================================\")\n",
    "    \n",
    "    it = np.nditer(x, flags = ['multi_index'], op_flags=['readwrite']) #모든 입력변수에 대해 편미분하기 위해 iterator 사용\n",
    "    \n",
    "    while not it.finished: \n",
    "        idx = it.multi_index\n",
    "        \n",
    "        print(\"debug 3. idx=\", idx, \", x[idx]=\", x[idx])\n",
    "        \n",
    "        tmp_val = x[idx] \n",
    "        x[idx] = float(tmp_val) + delta_x\n",
    "        fx1 = f(x) #f(x+delta_x)\n",
    "        \n",
    "        x[idx] = tmp_val - delta_x\n",
    "        fx2 = f(x)\n",
    "        grad[idx] = (fx1 - fx2) / (2*delta_x)\n",
    "        \n",
    "        print(\"debug 4, grad[idx] =\", grad[idx])\n",
    "        print(\"debug 5, grad = \", grad)\n",
    "        print(\"====================================\")\n",
    "        \n",
    "        x[idx] = tmp_val\n",
    "        it.iternext()\n",
    "    \n",
    "    return grad\n",
    "\n",
    "\n",
    "\n",
    "# (x, y) = (1.0, 2.0) 에서의 편미분 값\n",
    "\n",
    "input = np.array([1.0, 2.0])\n",
    "numerical_derivative(func1, input)\n"
   ]
  },
  {
   "cell_type": "code",
   "execution_count": 28,
   "metadata": {},
   "outputs": [
    {
     "name": "stdout",
     "output_type": "stream",
     "text": [
      "debug 1. inital input variable = [[1. 2.]\n",
      " [3. 4.]]\n",
      "debug 2. initial grad = [[0. 0.]\n",
      " [0. 0.]]\n",
      "======================================\n",
      "debug 3. idx= (0, 0) , x[idx]= 1.0\n",
      "debug 4, grad[idx] = 5.000000000023874\n",
      "debug 5, grad =  [[5. 0.]\n",
      " [0. 0.]]\n",
      "====================================\n",
      "debug 3. idx= (0, 1) , x[idx]= 2.0\n",
      "debug 4, grad[idx] = 13.00000000000523\n",
      "debug 5, grad =  [[ 5. 13.]\n",
      " [ 0.  0.]]\n",
      "====================================\n",
      "debug 3. idx= (1, 0) , x[idx]= 3.0\n",
      "debug 4, grad[idx] = 32.00000000006753\n",
      "debug 5, grad =  [[ 5. 13.]\n",
      " [32.  0.]]\n",
      "====================================\n",
      "debug 3. idx= (1, 1) , x[idx]= 4.0\n",
      "debug 4, grad[idx] = 15.000000000000568\n",
      "debug 5, grad =  [[ 5. 13.]\n",
      " [32. 15.]]\n",
      "====================================\n"
     ]
    },
    {
     "data": {
      "text/plain": [
       "array([[ 5., 13.],\n",
       "       [32., 15.]])"
      ]
     },
     "execution_count": 28,
     "metadata": {},
     "output_type": "execute_result"
    }
   ],
   "source": [
    "#입력변수 4개인 함수\n",
    "#f(w, x, y, z) = wx + xyz + 3w + zy^2\n",
    "#input_obj는 행렬\n",
    "\n",
    "def func1(input_obj):\n",
    "    \n",
    "    w = input_obj[0, 0] #input_obj의 1행1열 원소가 w\n",
    "    x = input_obj[0, 1]\n",
    "    y = input_obj[1, 0]\n",
    "    z = input_obj[1, 1]\n",
    "    \n",
    "    return(w*x + x*y*z + 3*w + z*np.power(y, 2))\n",
    "\n",
    "def numerical_derivative(f, x): #x는 모든 변수를 포함하고 있는 numpy객체(배열, 행렬...)\n",
    "    delta_x = 1e-4\n",
    "    grad = np.zeros_like(x)\n",
    "    print(\"debug 1. inital input variable =\", x)\n",
    "    print(\"debug 2. initial grad =\", grad)\n",
    "    print(\"======================================\")\n",
    "    \n",
    "    it = np.nditer(x, flags = ['multi_index'], op_flags=['readwrite']) #모든 입력변수에 대해 편미분하기 위해 iterator 사용\n",
    "    \n",
    "    while not it.finished: \n",
    "        idx = it.multi_index\n",
    "        \n",
    "        print(\"debug 3. idx=\", idx, \", x[idx]=\", x[idx])\n",
    "        \n",
    "        tmp_val = x[idx] \n",
    "        x[idx] = float(tmp_val) + delta_x\n",
    "        fx1 = f(x) #f(x+delta_x)\n",
    "        \n",
    "        x[idx] = tmp_val - delta_x\n",
    "        fx2 = f(x)\n",
    "        grad[idx] = (fx1 - fx2) / (2*delta_x)\n",
    "        \n",
    "        print(\"debug 4, grad[idx] =\", grad[idx])\n",
    "        print(\"debug 5, grad = \", grad)\n",
    "        print(\"====================================\")\n",
    "        \n",
    "        x[idx] = tmp_val\n",
    "        it.iternext()\n",
    "    \n",
    "    return grad\n",
    "\n",
    "#입력을 2x2 행렬로 구성함\n",
    "input = np.array([[1.0, 2.0], [3.0, 4.0]])\n",
    "\n",
    "numerical_derivative(func1, input)"
   ]
  }
 ],
 "metadata": {
  "kernelspec": {
   "display_name": "Python 3",
   "language": "python",
   "name": "python3"
  },
  "language_info": {
   "codemirror_mode": {
    "name": "ipython",
    "version": 3
   },
   "file_extension": ".py",
   "mimetype": "text/x-python",
   "name": "python",
   "nbconvert_exporter": "python",
   "pygments_lexer": "ipython3",
   "version": "3.7.6"
  }
 },
 "nbformat": 4,
 "nbformat_minor": 4
}
