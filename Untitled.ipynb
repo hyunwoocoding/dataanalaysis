{
 "cells": [
  {
   "cell_type": "code",
   "execution_count": 2,
   "metadata": {},
   "outputs": [
    {
     "name": "stdout",
     "output_type": "stream",
     "text": [
      "x_data.shape =  (10, 1) , t_data.shape =  (10, 1)\n"
     ]
    }
   ],
   "source": [
    "import numpy as np\n",
    "\n",
    "x_data = np.array([2, 4, 6, 8, 10, 12, 14, 16, 18, 20]).reshape(10,1)   \n",
    "t_data = np.array([0, 0, 0, 0,  0,  0,  1,  1,  1,  1]).reshape(10,1)\n",
    "\n",
    "print(\"x_data.shape = \", x_data.shape, \", t_data.shape = \", t_data.shape)"
   ]
  },
  {
   "cell_type": "code",
   "execution_count": 3,
   "metadata": {},
   "outputs": [
    {
     "name": "stdout",
     "output_type": "stream",
     "text": [
      "W =  [[0.87041162]] , W.shape =  (1, 1) , b =  [0.14298285] , b.shape =  (1,)\n"
     ]
    }
   ],
   "source": [
    "W = np.random.rand(1,1)  \n",
    "b = np.random.rand(1)  \n",
    "print(\"W = \", W, \", W.shape = \", W.shape, \", b = \", b, \", b.shape = \", b.shape)"
   ]
  },
  {
   "cell_type": "code",
   "execution_count": 4,
   "metadata": {},
   "outputs": [],
   "source": [
    "# 최종출력은 y = sigmoid(Wx+b) 이며, 손실함수는 cross-entropy 로 나타냄\n",
    "\n",
    "def sigmoid(x):\n",
    "    return 1 / (1+np.exp(-x))\n",
    "\n",
    "def loss_func(x, t):\n",
    "    \n",
    "    delta = 1e-7    # log 무한대 발산 방지\n",
    "    \n",
    "    z = np.dot(x,W) + b\n",
    "    y = sigmoid(z)\n",
    "    \n",
    "    # cross-entropy \n",
    "    return  -np.sum( t*np.log(y + delta) + (1-t)*np.log((1 - y)+delta ) )"
   ]
  },
  {
   "cell_type": "code",
   "execution_count": 5,
   "metadata": {},
   "outputs": [],
   "source": [
    "def numerical_derivative(f, x):\n",
    "    delta_x = 1e-4 # 0.0001\n",
    "    grad = np.zeros_like(x)\n",
    "    \n",
    "    it = np.nditer(x, flags=['multi_index'], op_flags=['readwrite'])\n",
    "    \n",
    "    while not it.finished:\n",
    "        idx = it.multi_index        \n",
    "        tmp_val = x[idx]\n",
    "        x[idx] = float(tmp_val) + delta_x\n",
    "        fx1 = f(x) # f(x+delta_x)\n",
    "        \n",
    "        x[idx] = tmp_val - delta_x \n",
    "        fx2 = f(x) # f(x-delta_x)\n",
    "        grad[idx] = (fx1 - fx2) / (2*delta_x)\n",
    "        \n",
    "        x[idx] = tmp_val \n",
    "        it.iternext()   \n",
    "        \n",
    "    return grad"
   ]
  },
  {
   "cell_type": "code",
   "execution_count": 6,
   "metadata": {},
   "outputs": [],
   "source": [
    "# 손실함수 값 계산 함수\n",
    "# 입력변수 x, t : numpy type\n",
    "def error_val(x, t):\n",
    "    delta = 1e-7    # log 무한대 발산 방지\n",
    "    \n",
    "    z = np.dot(x,W) + b\n",
    "    y = sigmoid(z)\n",
    "    \n",
    "    # cross-entropy \n",
    "    return  -np.sum( t*np.log(y + delta) + (1-t)*np.log((1 - y)+delta ) ) \n",
    "\n",
    "# 학습을 마친 후, 임의의 데이터에 대해 미래 값 예측 함수\n",
    "# 입력변수 x : numpy type\n",
    "def predict(x):\n",
    "    \n",
    "    z = np.dot(x,W) + b\n",
    "    y = sigmoid(z)\n",
    "    \n",
    "    if y >= 0.5:\n",
    "        result = 1  # True\n",
    "    else:\n",
    "        result = 0  # False\n",
    "    \n",
    "    return y, result"
   ]
  },
  {
   "cell_type": "code",
   "execution_count": 7,
   "metadata": {},
   "outputs": [
    {
     "name": "stdout",
     "output_type": "stream",
     "text": [
      "Initial error value =  37.58386045656126 Initial W =  [[0.87041162]] \n",
      " , b =  [0.14298285]\n",
      "step =  0 error value =  20.186627675276092 W =  [[0.45500692]] , b =  [0.08771037]\n",
      "step =  400 error value =  2.6457287731317884 W =  [[0.29533279]] , b =  [-4.25753673]\n",
      "step =  800 error value =  1.7591583121662089 W =  [[0.45965054]] , b =  [-5.72490432]\n",
      "step =  1200 error value =  1.5037134103537724 W =  [[0.53549865]] , b =  [-6.73465223]\n",
      "step =  1600 error value =  1.3428336459160846 W =  [[0.5959098]] , b =  [-7.53672828]\n",
      "step =  2000 error value =  1.2288868465646383 W =  [[0.64687391]] , b =  [-8.21191966]\n",
      "step =  2400 error value =  1.1422848046178795 W =  [[0.69138403]] , b =  [-8.80057374]\n",
      "step =  2800 error value =  1.07329769925425 W =  [[0.73116686]] , b =  [-9.32594613]\n",
      "step =  3200 error value =  1.0164684102309662 W =  [[0.76731637]] , b =  [-9.80275464]\n",
      "step =  3600 error value =  0.968464194969506 W =  [[0.800573]] , b =  [-10.24094997]\n",
      "step =  4000 error value =  0.9271169832015247 W =  [[0.83146325]] , b =  [-10.64759968]\n",
      "step =  4400 error value =  0.8909458444926266 W =  [[0.86037608]] , b =  [-11.02791898]\n",
      "step =  4800 error value =  0.8588991350172189 W =  [[0.88760766]] , b =  [-11.38587546]\n",
      "step =  5200 error value =  0.8302060187279287 W =  [[0.91338926]] , b =  [-11.72456373]\n",
      "step =  5600 error value =  0.8042864080509917 W =  [[0.9379052]] , b =  [-12.04644811]\n",
      "step =  6000 error value =  0.7806939425130938 W =  [[0.96130499]] , b =  [-12.3535258]\n",
      "step =  6400 error value =  0.7590785588384061 W =  [[0.98371174]] , b =  [-12.64743993]\n",
      "step =  6800 error value =  0.7391611534481848 W =  [[1.00522816]] , b =  [-12.92956008]\n",
      "step =  7200 error value =  0.7207159690343318 W =  [[1.02594087]] , b =  [-13.20104092]\n",
      "step =  7600 error value =  0.7035580636135969 W =  [[1.04592373]] , b =  [-13.46286581]\n",
      "step =  8000 error value =  0.6875342118896097 W =  [[1.06524022]] , b =  [-13.71587973]\n",
      "step =  8400 error value =  0.6725161782727868 W =  [[1.08394537]] , b =  [-13.96081457]\n",
      "step =  8800 error value =  0.6583956624122755 W =  [[1.10208721]] , b =  [-14.19830892]\n",
      "step =  9200 error value =  0.6450804459120114 W =  [[1.11970796]] , b =  [-14.42892355]\n",
      "step =  9600 error value =  0.6324914160150987 W =  [[1.13684493]] , b =  [-14.65315388]\n",
      "step =  10000 error value =  0.6205602391437949 W =  [[1.15353126]] , b =  [-14.87143995]\n"
     ]
    }
   ],
   "source": [
    "learning_rate = 1e-2  # 발산하는 경우, 1e-3 ~ 1e-6 등으로 바꾸어서 실행\n",
    "\n",
    "f = lambda x : loss_func(x_data,t_data)  # f(x) = loss_func(x_data, t_data)\n",
    "\n",
    "print(\"Initial error value = \", error_val(x_data, t_data), \"Initial W = \", W, \"\\n\", \", b = \", b )\n",
    "\n",
    "for step in  range(10001):  \n",
    "    \n",
    "    W -= learning_rate * numerical_derivative(f, W)\n",
    "    \n",
    "    b -= learning_rate * numerical_derivative(f, b)\n",
    "    \n",
    "    if (step % 400 == 0):\n",
    "        print(\"step = \", step, \"error value = \", error_val(x_data, t_data), \"W = \", W, \", b = \",b )"
   ]
  },
  {
   "cell_type": "code",
   "execution_count": 8,
   "metadata": {},
   "outputs": [
    {
     "name": "stdout",
     "output_type": "stream",
     "text": [
      "[[1.10745902e-05]] 0\n"
     ]
    }
   ],
   "source": [
    "(real_val, logical_val) = predict(3) \n",
    "\n",
    "print(real_val, logical_val)"
   ]
  },
  {
   "cell_type": "code",
   "execution_count": 9,
   "metadata": {},
   "outputs": [
    {
     "name": "stdout",
     "output_type": "stream",
     "text": [
      "[[0.99132495]] 1\n"
     ]
    }
   ],
   "source": [
    "\n",
    "(real_val, logical_val) = predict(17) \n",
    "\n",
    "print(real_val, logical_val)"
   ]
  },
  {
   "cell_type": "code",
   "execution_count": null,
   "metadata": {},
   "outputs": [],
   "source": []
  }
 ],
 "metadata": {
  "kernelspec": {
   "display_name": "Python 3",
   "language": "python",
   "name": "python3"
  },
  "language_info": {
   "codemirror_mode": {
    "name": "ipython",
    "version": 3
   },
   "file_extension": ".py",
   "mimetype": "text/x-python",
   "name": "python",
   "nbconvert_exporter": "python",
   "pygments_lexer": "ipython3",
   "version": "3.7.6"
  }
 },
 "nbformat": 4,
 "nbformat_minor": 4
}
