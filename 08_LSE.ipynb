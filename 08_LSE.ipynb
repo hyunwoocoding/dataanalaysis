{
 "cells": [
  {
   "cell_type": "code",
   "execution_count": 1,
   "metadata": {},
   "outputs": [],
   "source": [
    "# 최소 제곱법\n",
    "\n",
    "import numpy as np\n",
    "import pandas as pd\n",
    "import matplotlib.pyplot as plt\n",
    "import seaborn as sb\n",
    "\n",
    "%matplotlib inline"
   ]
  },
  {
   "cell_type": "code",
   "execution_count": 3,
   "metadata": {},
   "outputs": [
    {
     "data": {
      "image/png": "[encoded data removed]",
      "text/plain": [
       "<Figure size 360x360 with 1 Axes>"
      ]
     },
     "metadata": {
      "needs_background": "light"
     },
     "output_type": "display_data"
    }
   ],
   "source": [
    "x = [2, 4, 6, 8] # 공부한 시간\n",
    "y = [81, 93, 91, 97] # 시험 점수\n",
    "\n",
    "df = pd.DataFrame(columns = ['x', 'y'])\n",
    "# 데이터 프레임에 데이터를 넣어줄 때는 loc[index]를 사용해서\n",
    "# 리스트 형태의 데이터를 넣어햐 합니다.\n",
    "\n",
    "df.loc[0] = [2, 81]\n",
    "df.loc[1] = [4, 93] \n",
    "df.loc[2] = [6, 91] \n",
    "df.loc[3] = [8, 97] \n",
    "\n",
    "sb.lmplot('x', 'y', data=df, fit_reg = False)\n",
    "pass"
   ]
  },
  {
   "cell_type": "code",
   "execution_count": 4,
   "metadata": {},
   "outputs": [
    {
     "name": "stdout",
     "output_type": "stream",
     "text": [
      "공부한 시간의 평균은 : 5.0, 시험 점수의 평균은 90.5\n"
     ]
    }
   ],
   "source": [
    "# numpy를 이용해서 공부한 시간과 시험 점수의 평균을 계산합니다.\n",
    "# mean() : numpy에서 인수로 지정된 데이터의 평균을 계산하는 함수\n",
    "mean_x = np.mean(x) # 공부 시간의 평균\n",
    "mean_y = np.mean(y) # 시험 점수의 평균, 실제값\n",
    "print(\"공부한 시간의 평균은 : {}, 시험 점수의 평균은 {}\".format(mean_x, mean_y))"
   ]
  },
  {
   "cell_type": "markdown",
   "metadata": {},
   "source": [
    "# 기울기 공식의 분자를 계산하는 함수를 만들어 분자를 계산합니다.\n",
    "\n",
    "기울기 공식 -> cov(x, y) / var(x)"
   ]
  },
  {
   "cell_type": "code",
   "execution_count": 5,
   "metadata": {},
   "outputs": [
    {
     "name": "stdout",
     "output_type": "stream",
     "text": [
      "46.0\n"
     ]
    }
   ],
   "source": [
    "def top(x, mean_x, y, mean_y): # 분자를 계산하는 함수\n",
    "    total = 0\n",
    "    for i in range(len(x)):\n",
    "        total += (x[i] - mean_x)*(y[i] - mean_y)\n",
    "    return total\n",
    "\n",
    "dividend = top(x, mean_x, y, mean_y)\n",
    "print(dividend)"
   ]
  },
  {
   "cell_type": "markdown",
   "metadata": {},
   "source": [
    "# 기울기 공식의 분모를 계산하는 함수를 만들어 분자를 계산합니다."
   ]
  },
  {
   "cell_type": "code",
   "execution_count": 8,
   "metadata": {},
   "outputs": [
    {
     "name": "stdout",
     "output_type": "stream",
     "text": [
      "20.0\n"
     ]
    }
   ],
   "source": [
    "def bottom(x, mean_x): #분모를 게산하는 함수\n",
    "    total = 0\n",
    "    for i in range(len(x)):\n",
    "        total += (x[i] - mean_x)**2\n",
    "    return total\n",
    "\n",
    "divisor = bottom(x, mean_x)\n",
    "#print(divisor)\n",
    "\n",
    "# divisor = sum([i - mean_x]) ** 2 for i in x]) # 2번째 방법\n"
   ]
  },
  {
   "cell_type": "code",
   "execution_count": 9,
   "metadata": {},
   "outputs": [
    {
     "name": "stdout",
     "output_type": "stream",
     "text": [
      "기울기의 분자 : 46.0, 기울기의 분모 : 20.0\n",
      "기울기 : 2.3, y절편 : 79.0\n"
     ]
    }
   ],
   "source": [
    "#기울기 및 y절편\n",
    "#y절편 공식: y의 평균값 - (x의 평균*기울기)\n",
    "\n",
    "print('기울기의 분자 : {}, 기울기의 분모 : {}'.format(dividend, divisor))\n",
    "\n",
    "a = dividend / divisor\n",
    "b = mean_y - (mean_x * a)\n",
    "\n",
    "print('기울기 : {}, y절편 : {}'.format(a, b))\n",
    "\n"
   ]
  }
 ],
 "metadata": {
  "kernelspec": {
   "display_name": "Python 3",
   "language": "python",
   "name": "python3"
  },
  "language_info": {
   "codemirror_mode": {
    "name": "ipython",
    "version": 3
   },
   "file_extension": ".py",
   "mimetype": "text/x-python",
   "name": "python",
   "nbconvert_exporter": "python",
   "pygments_lexer": "ipython3",
   "version": "3.7.6"
  }
 },
 "nbformat": 4,
 "nbformat_minor": 4
}
